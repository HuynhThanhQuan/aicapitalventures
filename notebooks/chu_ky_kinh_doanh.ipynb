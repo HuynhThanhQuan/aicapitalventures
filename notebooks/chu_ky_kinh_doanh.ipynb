{
 "cells": [
  {
   "cell_type": "code",
   "execution_count": 1,
   "id": "4afef868-e324-4f22-8710-81710429a9d1",
   "metadata": {
    "tags": []
   },
   "outputs": [],
   "source": [
    "import matplotlib.pyplot as plt\n",
    "import numpy as np\n",
    "import math"
   ]
  },
  {
   "cell_type": "markdown",
   "id": "2624a4cf-9523-4492-ae9c-2f2a82a9fb79",
   "metadata": {},
   "source": [
    "Sự dao động có tính quy luật giữa sản lượng thực tế và sản lượng tiềm năng hình thành nên chu kỳ kinh doanh"
   ]
  },
  {
   "cell_type": "markdown",
   "id": "4bbff975-cb7d-4841-bebe-03342ac98d2b",
   "metadata": {
    "tags": []
   },
   "source": [
    "Chu kỳ kinh doanh (business cycle) là hiện tượng sản lượng thực tế dao động lên xuống theo thời gian, xoay quanh sản lượng tiềm năng."
   ]
  },
  {
   "cell_type": "code",
   "execution_count": null,
   "id": "1063075a-32a0-429d-b242-48c3fa832f2a",
   "metadata": {},
   "outputs": [],
   "source": []
  }
 ],
 "metadata": {
  "kernelspec": {
   "display_name": "Python 3 (ipykernel)",
   "language": "python",
   "name": "python3"
  },
  "language_info": {
   "codemirror_mode": {
    "name": "ipython",
    "version": 3
   },
   "file_extension": ".py",
   "mimetype": "text/x-python",
   "name": "python",
   "nbconvert_exporter": "python",
   "pygments_lexer": "ipython3",
   "version": "3.10.10"
  }
 },
 "nbformat": 4,
 "nbformat_minor": 5
}
