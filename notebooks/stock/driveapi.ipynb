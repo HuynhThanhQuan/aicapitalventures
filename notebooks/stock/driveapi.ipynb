{
 "cells": [
  {
   "cell_type": "code",
   "execution_count": 3,
   "id": "e14186ff-7aa3-40ec-af3c-af3af194fd95",
   "metadata": {
    "tags": []
   },
   "outputs": [
    {
     "name": "stdout",
     "output_type": "stream",
     "text": [
      "Files:\n",
      "Datajobs.vn (02) (13YY8fEXyflNs3t_7e4NgHaHNtiZc8MHX4hXyKYSrcBc)\n",
      "Phát triển bản thân (1b7HsgBRIwaV-kKXovCX3bzBMbMk0fOmBF3df0Kwv6SU)\n",
      "Khách hàng đầu tư (1OreCLhSU6UuO8K5SZp8IpqcSZUx1Yq9QJb6PafPvP7M)\n",
      "Automate (1Pi8PYDE0dpbNWXajChMY7FRnpuGUjRuc)\n",
      "Theo dõi trading (1MZVvZm6yjLjbNP_bA113cLp5HWOQLz1cj6jGqfaCBt4)\n",
      "Results of COE Bidding Exercise (1Ma8dm_rdtdfNp8ONUG5ykFHwrEg1GFC3ObOMualMVBM)\n",
      "JD - BD Researcher (1XDa7f8C8zcB46x5yTPYRw3pS4OBtLxfUP33LVDjkxTU)\n",
      "Plume_Sr Data Scientist (1-LY202kwNWzVZe0SZLnzb3dHvG_idQOWPhOE4Dftdzs)\n",
      "HuynhThanhQuan_SeniorDataScientist - HuynhThanhQuan_SeniorDataScientist.pdf (1kh6mx9OpVcgcrL_MDXRgLCKDWMgCrlag)\n",
      "OFFLINE CẢ HAI (1jp8K6FjKchQAayYNAxdf1d21RZt60nZBrlZt9kg7rgI)\n"
     ]
    }
   ],
   "source": [
    "from __future__ import print_function\n",
    "\n",
    "import os.path\n",
    "\n",
    "from google.auth.transport.requests import Request\n",
    "from google.oauth2.credentials import Credentials\n",
    "from google_auth_oauthlib.flow import InstalledAppFlow\n",
    "from googleapiclient.discovery import build\n",
    "from googleapiclient.errors import HttpError\n",
    "\n",
    "# If modifying these scopes, delete the file token.json.\n",
    "SCOPES = ['https://www.googleapis.com/auth/drive.metadata.readonly']\n",
    "\n",
    "\n",
    "def main():\n",
    "    \"\"\"Shows basic usage of the Drive v3 API.\n",
    "    Prints the names and ids of the first 10 files the user has access to.\n",
    "    \"\"\"\n",
    "    creds = None\n",
    "    # The file token.json stores the user's access and refresh tokens, and is\n",
    "    # created automatically when the authorization flow completes for the first\n",
    "    # time.\n",
    "    if os.path.exists('token.json'):\n",
    "        creds = Credentials.from_authorized_user_file('token.json', SCOPES)\n",
    "    # If there are no (valid) credentials available, let the user log in.\n",
    "    if not creds or not creds.valid:\n",
    "        if creds and creds.expired and creds.refresh_token:\n",
    "            creds.refresh(Request())\n",
    "        else:\n",
    "            flow = InstalledAppFlow.from_client_secrets_file(\n",
    "                'credentials.json', SCOPES)\n",
    "            creds = flow.run_local_server(port=0)\n",
    "        # Save the credentials for the next run\n",
    "        with open('token.json', 'w') as token:\n",
    "            token.write(creds.to_json())\n",
    "\n",
    "    try:\n",
    "        service = build('drive', 'v3', credentials=creds)\n",
    "\n",
    "        # Call the Drive v3 API\n",
    "        results = service.files().list(\n",
    "            pageSize=10, fields=\"nextPageToken, files(id, name)\").execute()\n",
    "        items = results.get('files', [])\n",
    "\n",
    "        if not items:\n",
    "            print('No files found.')\n",
    "            return\n",
    "        print('Files:')\n",
    "        for item in items:\n",
    "            print(u'{0} ({1})'.format(item['name'], item['id']))\n",
    "    except HttpError as error:\n",
    "        # TODO(developer) - Handle errors from drive API.\n",
    "        print(f'An error occurred: {error}')\n",
    "\n",
    "\n",
    "if __name__ == '__main__':\n",
    "    main()"
   ]
  },
  {
   "cell_type": "code",
   "execution_count": 18,
   "id": "57f66c83-3ee1-4a68-a9b7-19c1a0f561fb",
   "metadata": {
    "tags": []
   },
   "outputs": [
    {
     "name": "stdout",
     "output_type": "stream",
     "text": [
      "Found file: Khách hàng đầu tư, 1OreCLhSU6UuO8K5SZp8IpqcSZUx1Yq9QJb6PafPvP7M\n"
     ]
    }
   ],
   "source": [
    "from __future__ import print_function\n",
    "\n",
    "import google.auth\n",
    "from googleapiclient.discovery import build\n",
    "from googleapiclient.errors import HttpError\n",
    "\n",
    "\n",
    "def search_file():\n",
    "    \"\"\"Search file in drive location\n",
    "\n",
    "    Load pre-authorized user credentials from the environment.\n",
    "    TODO(developer) - See https://developers.google.com/identity\n",
    "    for guides on implementing OAuth2 for the application.\n",
    "    \"\"\"\n",
    "    # creds, _ = google.auth.default()\n",
    "    creds = Credentials.from_authorized_user_file('token.json', SCOPES)\n",
    "\n",
    "    try:\n",
    "        # create drive api client\n",
    "        service = build('drive', 'v3', credentials=creds)\n",
    "        files = []\n",
    "        page_token = None\n",
    "        while True:\n",
    "            # pylint: disable=maybe-no-member\n",
    "            response = service.files().list(q=\"name = 'Khách hàng đầu tư'\",\n",
    "                                            spaces='drive',\n",
    "                                            fields='nextPageToken, '\n",
    "                                                   'files(id, name)',\n",
    "                                            pageToken=page_token).execute()\n",
    "            for file in response.get('files', []):\n",
    "                # Process change\n",
    "                print(F'Found file: {file.get(\"name\")}, {file.get(\"id\")}')\n",
    "            files.extend(response.get('files', []))\n",
    "            page_token = response.get('nextPageToken', None)\n",
    "            if page_token is None:\n",
    "                break\n",
    "\n",
    "    except HttpError as error:\n",
    "        print(F'An error occurred: {error}')\n",
    "        files = None\n",
    "\n",
    "    return files\n",
    "\n",
    "\n",
    "if __name__ == '__main__':\n",
    "    files = search_file()"
   ]
  },
  {
   "cell_type": "code",
   "execution_count": 19,
   "id": "d95e9061-ff4c-4829-8515-95fd316ae91f",
   "metadata": {
    "tags": []
   },
   "outputs": [
    {
     "data": {
      "text/plain": [
       "[{'id': '1OreCLhSU6UuO8K5SZp8IpqcSZUx1Yq9QJb6PafPvP7M',\n",
       "  'name': 'Khách hàng đầu tư'}]"
      ]
     },
     "execution_count": 19,
     "metadata": {},
     "output_type": "execute_result"
    }
   ],
   "source": [
    "files"
   ]
  },
  {
   "cell_type": "code",
   "execution_count": 54,
   "id": "2d8b00ec-9c7c-4864-b0d8-19ba242e7d24",
   "metadata": {
    "tags": []
   },
   "outputs": [
    {
     "name": "stdout",
     "output_type": "stream",
     "text": [
      "Download 100.\n"
     ]
    }
   ],
   "source": [
    "from __future__ import print_function\n",
    "\n",
    "import io\n",
    "\n",
    "import google.auth\n",
    "from googleapiclient.discovery import build\n",
    "from googleapiclient.errors import HttpError\n",
    "from googleapiclient.http import MediaIoBaseDownload\n",
    "\n",
    "\n",
    "def download_file(real_file_id):\n",
    "    \"\"\"Downloads a file\n",
    "    Args:\n",
    "        real_file_id: ID of the file to download\n",
    "    Returns : IO object with location.\n",
    "\n",
    "    Load pre-authorized user credentials from the environment.\n",
    "    TODO(developer) - See https://developers.google.com/identity\n",
    "    for guides on implementing OAuth2 for the application.\n",
    "    \"\"\"\n",
    "    SCOPES = ['https://www.googleapis.com/auth/drive.readonly']\n",
    "    \n",
    "    creds = None\n",
    "    # The file token.json stores the user's access and refresh tokens, and is\n",
    "    # created automatically when the authorization flow completes for the first\n",
    "    # time.\n",
    "    if os.path.exists('token.json'):\n",
    "        creds = Credentials.from_authorized_user_file('token.json', SCOPES)\n",
    "    # If there are no (valid) credentials available, let the user log in.\n",
    "    if not creds or not creds.valid:\n",
    "        if creds and creds.expired and creds.refresh_token:\n",
    "            creds.refresh(Request())\n",
    "        else:\n",
    "            flow = InstalledAppFlow.from_client_secrets_file(\n",
    "                'credentials.json', SCOPES)\n",
    "            creds = flow.run_local_server(port=0)\n",
    "        # Save the credentials for the next run\n",
    "        with open('token.json', 'w') as token:\n",
    "            token.write(creds.to_json())\n",
    "\n",
    "    try:\n",
    "        # create drive api client\n",
    "        service = build('drive', 'v3', credentials=creds)\n",
    "\n",
    "        file_id = real_file_id\n",
    "\n",
    "        # pylint: disable=maybe-no-member\n",
    "        request = service.files().export_media(fileId=file_id, mimeType='application/vnd.openxmlformats-officedocument.spreadsheetml.sheet')\n",
    "        file = io.FileIO('data.xls', 'wb')\n",
    "        downloader = MediaIoBaseDownload(file, request)\n",
    "        done = False\n",
    "        while done is False:\n",
    "            status, done = downloader.next_chunk()\n",
    "            print(F'Download {int(status.progress() * 100)}.')\n",
    "\n",
    "    except HttpError as error:\n",
    "        print(F'An error occurred: {error}')\n",
    "        file = None\n",
    "\n",
    "    return file\n",
    "\n",
    "\n",
    "if __name__ == '__main__':\n",
    "    file=download_file(real_file_id='1OreCLhSU6UuO8K5SZp8IpqcSZUx1Yq9QJb6PafPvP7M')"
   ]
  },
  {
   "cell_type": "code",
   "execution_count": 55,
   "id": "7ac720d2-7ea2-42e5-a445-3f3bc1975054",
   "metadata": {
    "tags": []
   },
   "outputs": [
    {
     "data": {
      "text/html": [
       "<div>\n",
       "<style scoped>\n",
       "    .dataframe tbody tr th:only-of-type {\n",
       "        vertical-align: middle;\n",
       "    }\n",
       "\n",
       "    .dataframe tbody tr th {\n",
       "        vertical-align: top;\n",
       "    }\n",
       "\n",
       "    .dataframe thead th {\n",
       "        text-align: right;\n",
       "    }\n",
       "</style>\n",
       "<table border=\"1\" class=\"dataframe\">\n",
       "  <thead>\n",
       "    <tr style=\"text-align: right;\">\n",
       "      <th></th>\n",
       "      <th>Chủ tài khoản</th>\n",
       "      <th>Thời gian giao dịch</th>\n",
       "      <th>Mã Đầu tư</th>\n",
       "      <th>KL giao dịch</th>\n",
       "      <th>Giá mua</th>\n",
       "      <th>TS khớp lệnh mua</th>\n",
       "      <th>Giá bán</th>\n",
       "      <th>TS khớp lệnh bán</th>\n",
       "    </tr>\n",
       "  </thead>\n",
       "  <tbody>\n",
       "    <tr>\n",
       "      <th>0</th>\n",
       "      <td>Lê Thị Ánh Ngọc</td>\n",
       "      <td>2023-02-20 10:25:00</td>\n",
       "      <td>PC1</td>\n",
       "      <td>300</td>\n",
       "      <td>27408.0</td>\n",
       "      <td>8222400.0</td>\n",
       "      <td>NaN</td>\n",
       "      <td>NaN</td>\n",
       "    </tr>\n",
       "    <tr>\n",
       "      <th>1</th>\n",
       "      <td>Lê Thị Ánh Ngọc</td>\n",
       "      <td>2023-04-10 09:39:00</td>\n",
       "      <td>PC1</td>\n",
       "      <td>300</td>\n",
       "      <td>NaN</td>\n",
       "      <td>NaN</td>\n",
       "      <td>28250.0</td>\n",
       "      <td>8475000.0</td>\n",
       "    </tr>\n",
       "    <tr>\n",
       "      <th>2</th>\n",
       "      <td>Lê Thị Ánh Ngọc</td>\n",
       "      <td>2023-04-17 16:10:00</td>\n",
       "      <td>BID</td>\n",
       "      <td>200</td>\n",
       "      <td>44513.0</td>\n",
       "      <td>8902600.0</td>\n",
       "      <td>NaN</td>\n",
       "      <td>NaN</td>\n",
       "    </tr>\n",
       "  </tbody>\n",
       "</table>\n",
       "</div>"
      ],
      "text/plain": [
       "     Chủ tài khoản Thời gian giao dịch Mã Đầu tư  KL giao dịch  Giá mua   \n",
       "0  Lê Thị Ánh Ngọc 2023-02-20 10:25:00       PC1           300  27408.0  \\\n",
       "1  Lê Thị Ánh Ngọc 2023-04-10 09:39:00       PC1           300      NaN   \n",
       "2  Lê Thị Ánh Ngọc 2023-04-17 16:10:00       BID           200  44513.0   \n",
       "\n",
       "   TS khớp lệnh mua  Giá bán  TS khớp lệnh bán  \n",
       "0         8222400.0      NaN               NaN  \n",
       "1               NaN  28250.0         8475000.0  \n",
       "2         8902600.0      NaN               NaN  "
      ]
     },
     "execution_count": 55,
     "metadata": {},
     "output_type": "execute_result"
    }
   ],
   "source": [
    "import pandas as pd\n",
    "df = pd.read_excel('data.xls', sheet_name='Hoạt động giao dịch')\n",
    "df"
   ]
  },
  {
   "cell_type": "code",
   "execution_count": 56,
   "id": "5b6df42f-04fc-4369-946d-477ffc8d452e",
   "metadata": {
    "tags": []
   },
   "outputs": [
    {
     "name": "stdout",
     "output_type": "stream",
     "text": [
      "<class 'pandas.core.frame.DataFrame'>\n",
      "RangeIndex: 3 entries, 0 to 2\n",
      "Data columns (total 8 columns):\n",
      " #   Column               Non-Null Count  Dtype         \n",
      "---  ------               --------------  -----         \n",
      " 0   Chủ tài khoản        3 non-null      object        \n",
      " 1   Thời gian giao dịch  3 non-null      datetime64[ns]\n",
      " 2   Mã Đầu tư            3 non-null      object        \n",
      " 3   KL giao dịch         3 non-null      int64         \n",
      " 4   Giá mua              2 non-null      float64       \n",
      " 5   TS khớp lệnh mua     2 non-null      float64       \n",
      " 6   Giá bán              1 non-null      float64       \n",
      " 7   TS khớp lệnh bán     1 non-null      float64       \n",
      "dtypes: datetime64[ns](1), float64(4), int64(1), object(2)\n",
      "memory usage: 320.0+ bytes\n"
     ]
    }
   ],
   "source": [
    "df.info()"
   ]
  },
  {
   "cell_type": "code",
   "execution_count": 62,
   "id": "e9190ccf-a511-490b-a674-4d1c1b42d9aa",
   "metadata": {
    "tags": []
   },
   "outputs": [
    {
     "data": {
      "text/html": [
       "<div>\n",
       "<style scoped>\n",
       "    .dataframe tbody tr th:only-of-type {\n",
       "        vertical-align: middle;\n",
       "    }\n",
       "\n",
       "    .dataframe tbody tr th {\n",
       "        vertical-align: top;\n",
       "    }\n",
       "\n",
       "    .dataframe thead th {\n",
       "        text-align: right;\n",
       "    }\n",
       "</style>\n",
       "<table border=\"1\" class=\"dataframe\">\n",
       "  <thead>\n",
       "    <tr style=\"text-align: right;\">\n",
       "      <th></th>\n",
       "      <th>Chủ tài khoản</th>\n",
       "      <th>Thời gian giao dịch</th>\n",
       "      <th>Mã Đầu tư</th>\n",
       "      <th>KL giao dịch</th>\n",
       "      <th>Giá mua</th>\n",
       "      <th>TS khớp lệnh mua</th>\n",
       "      <th>Giá bán</th>\n",
       "      <th>TS khớp lệnh bán</th>\n",
       "    </tr>\n",
       "  </thead>\n",
       "  <tbody>\n",
       "    <tr>\n",
       "      <th>0</th>\n",
       "      <td>Lê Thị Ánh Ngọc</td>\n",
       "      <td>2023-02-20 10:25:00</td>\n",
       "      <td>PC1</td>\n",
       "      <td>300</td>\n",
       "      <td>27408.0</td>\n",
       "      <td>8222400.0</td>\n",
       "      <td>NaN</td>\n",
       "      <td>NaN</td>\n",
       "    </tr>\n",
       "    <tr>\n",
       "      <th>1</th>\n",
       "      <td>Lê Thị Ánh Ngọc</td>\n",
       "      <td>2023-04-10 09:39:00</td>\n",
       "      <td>PC1</td>\n",
       "      <td>300</td>\n",
       "      <td>NaN</td>\n",
       "      <td>NaN</td>\n",
       "      <td>28250.0</td>\n",
       "      <td>8475000.0</td>\n",
       "    </tr>\n",
       "    <tr>\n",
       "      <th>2</th>\n",
       "      <td>Lê Thị Ánh Ngọc</td>\n",
       "      <td>2023-04-17 16:10:00</td>\n",
       "      <td>BID</td>\n",
       "      <td>200</td>\n",
       "      <td>44513.0</td>\n",
       "      <td>8902600.0</td>\n",
       "      <td>NaN</td>\n",
       "      <td>NaN</td>\n",
       "    </tr>\n",
       "  </tbody>\n",
       "</table>\n",
       "</div>"
      ],
      "text/plain": [
       "     Chủ tài khoản Thời gian giao dịch Mã Đầu tư  KL giao dịch  Giá mua   \n",
       "0  Lê Thị Ánh Ngọc 2023-02-20 10:25:00       PC1           300  27408.0  \\\n",
       "1  Lê Thị Ánh Ngọc 2023-04-10 09:39:00       PC1           300      NaN   \n",
       "2  Lê Thị Ánh Ngọc 2023-04-17 16:10:00       BID           200  44513.0   \n",
       "\n",
       "   TS khớp lệnh mua  Giá bán  TS khớp lệnh bán  \n",
       "0         8222400.0      NaN               NaN  \n",
       "1               NaN  28250.0         8475000.0  \n",
       "2         8902600.0      NaN               NaN  "
      ]
     },
     "execution_count": 62,
     "metadata": {},
     "output_type": "execute_result"
    }
   ],
   "source": [
    "df1 = df.sort_values('Thời gian giao dịch')\n",
    "df1"
   ]
  },
  {
   "cell_type": "code",
   "execution_count": 57,
   "id": "c88dd11f-bfaf-4455-a080-7710595a71a3",
   "metadata": {
    "tags": []
   },
   "outputs": [],
   "source": [
    "import vnstock as vns"
   ]
  },
  {
   "cell_type": "code",
   "execution_count": 63,
   "id": "0f6924c7-d2ab-4130-b8ba-3b66f8707156",
   "metadata": {},
   "outputs": [
    {
     "data": {
      "text/html": [
       "<div>\n",
       "<style scoped>\n",
       "    .dataframe tbody tr th:only-of-type {\n",
       "        vertical-align: middle;\n",
       "    }\n",
       "\n",
       "    .dataframe tbody tr th {\n",
       "        vertical-align: top;\n",
       "    }\n",
       "\n",
       "    .dataframe thead th {\n",
       "        text-align: right;\n",
       "    }\n",
       "</style>\n",
       "<table border=\"1\" class=\"dataframe\">\n",
       "  <thead>\n",
       "    <tr style=\"text-align: right;\">\n",
       "      <th></th>\n",
       "      <th>exchange</th>\n",
       "      <th>shortName</th>\n",
       "      <th>industryID</th>\n",
       "      <th>industryIDv2</th>\n",
       "      <th>industry</th>\n",
       "      <th>industryEn</th>\n",
       "      <th>establishedYear</th>\n",
       "      <th>noEmployees</th>\n",
       "      <th>noShareholders</th>\n",
       "      <th>foreignPercent</th>\n",
       "      <th>website</th>\n",
       "      <th>stockRating</th>\n",
       "      <th>deltaInWeek</th>\n",
       "      <th>deltaInMonth</th>\n",
       "      <th>deltaInYear</th>\n",
       "      <th>outstandingShare</th>\n",
       "      <th>issueShare</th>\n",
       "      <th>companyType</th>\n",
       "      <th>ticker</th>\n",
       "    </tr>\n",
       "  </thead>\n",
       "  <tbody>\n",
       "    <tr>\n",
       "      <th>0</th>\n",
       "      <td>HOSE</td>\n",
       "      <td>Tập đoàn PC1</td>\n",
       "      <td>181</td>\n",
       "      <td>2357</td>\n",
       "      <td>Xây dựng và Vật liệu</td>\n",
       "      <td>Construction &amp; Materials</td>\n",
       "      <td>2005</td>\n",
       "      <td>1524</td>\n",
       "      <td>686</td>\n",
       "      <td>0.084</td>\n",
       "      <td>http://pc1group.vn</td>\n",
       "      <td>3.6</td>\n",
       "      <td>0.014</td>\n",
       "      <td>0.028</td>\n",
       "      <td>0.09</td>\n",
       "      <td>270.4</td>\n",
       "      <td>270.4</td>\n",
       "      <td>CT</td>\n",
       "      <td>PC1</td>\n",
       "    </tr>\n",
       "  </tbody>\n",
       "</table>\n",
       "</div>"
      ],
      "text/plain": [
       "  exchange     shortName  industryID industryIDv2              industry   \n",
       "0     HOSE  Tập đoàn PC1         181         2357  Xây dựng và Vật liệu  \\\n",
       "\n",
       "                 industryEn establishedYear  noEmployees  noShareholders   \n",
       "0  Construction & Materials            2005         1524             686  \\\n",
       "\n",
       "   foreignPercent             website  stockRating  deltaInWeek  deltaInMonth   \n",
       "0           0.084  http://pc1group.vn          3.6        0.014         0.028  \\\n",
       "\n",
       "   deltaInYear  outstandingShare  issueShare companyType ticker  \n",
       "0         0.09             270.4       270.4          CT    PC1  "
      ]
     },
     "execution_count": 63,
     "metadata": {},
     "output_type": "execute_result"
    }
   ],
   "source": [
    "vns.ticker_overview('PC1')"
   ]
  },
  {
   "cell_type": "code",
   "execution_count": 67,
   "id": "5b75df05-1a7e-4bcc-9520-578e86362852",
   "metadata": {
    "tags": []
   },
   "outputs": [
    {
     "data": {
      "text/html": [
       "<div>\n",
       "<style scoped>\n",
       "    .dataframe tbody tr th:only-of-type {\n",
       "        vertical-align: middle;\n",
       "    }\n",
       "\n",
       "    .dataframe tbody tr th {\n",
       "        vertical-align: top;\n",
       "    }\n",
       "\n",
       "    .dataframe thead th {\n",
       "        text-align: right;\n",
       "    }\n",
       "</style>\n",
       "<table border=\"1\" class=\"dataframe\">\n",
       "  <thead>\n",
       "    <tr style=\"text-align: right;\">\n",
       "      <th></th>\n",
       "      <th>Open</th>\n",
       "      <th>High</th>\n",
       "      <th>Low</th>\n",
       "      <th>Close</th>\n",
       "      <th>Volume</th>\n",
       "      <th>TradingDate</th>\n",
       "    </tr>\n",
       "  </thead>\n",
       "  <tbody>\n",
       "    <tr>\n",
       "      <th>0</th>\n",
       "      <td>28000.0</td>\n",
       "      <td>28400.0</td>\n",
       "      <td>27400.0</td>\n",
       "      <td>27400.0</td>\n",
       "      <td>2943088</td>\n",
       "      <td>2023-02-21</td>\n",
       "    </tr>\n",
       "    <tr>\n",
       "      <th>1</th>\n",
       "      <td>26900.0</td>\n",
       "      <td>27950.0</td>\n",
       "      <td>26800.0</td>\n",
       "      <td>26900.0</td>\n",
       "      <td>3273767</td>\n",
       "      <td>2023-02-22</td>\n",
       "    </tr>\n",
       "    <tr>\n",
       "      <th>2</th>\n",
       "      <td>27000.0</td>\n",
       "      <td>27100.0</td>\n",
       "      <td>25900.0</td>\n",
       "      <td>27000.0</td>\n",
       "      <td>2308020</td>\n",
       "      <td>2023-02-23</td>\n",
       "    </tr>\n",
       "    <tr>\n",
       "      <th>3</th>\n",
       "      <td>27000.0</td>\n",
       "      <td>27850.0</td>\n",
       "      <td>27000.0</td>\n",
       "      <td>27300.0</td>\n",
       "      <td>1987800</td>\n",
       "      <td>2023-02-24</td>\n",
       "    </tr>\n",
       "    <tr>\n",
       "      <th>4</th>\n",
       "      <td>26850.0</td>\n",
       "      <td>27250.0</td>\n",
       "      <td>26200.0</td>\n",
       "      <td>26200.0</td>\n",
       "      <td>1832961</td>\n",
       "      <td>2023-02-27</td>\n",
       "    </tr>\n",
       "  </tbody>\n",
       "</table>\n",
       "</div>"
      ],
      "text/plain": [
       "      Open     High      Low    Close   Volume TradingDate\n",
       "0  28000.0  28400.0  27400.0  27400.0  2943088  2023-02-21\n",
       "1  26900.0  27950.0  26800.0  26900.0  3273767  2023-02-22\n",
       "2  27000.0  27100.0  25900.0  27000.0  2308020  2023-02-23\n",
       "3  27000.0  27850.0  27000.0  27300.0  1987800  2023-02-24\n",
       "4  26850.0  27250.0  26200.0  26200.0  1832961  2023-02-27"
      ]
     },
     "execution_count": 67,
     "metadata": {},
     "output_type": "execute_result"
    }
   ],
   "source": [
    "df_stock = vns.stock_historical_data(symbol='PC1', start_date=\"2023-02-20\", end_date='2023-04-10')\n",
    "df_stock.head()"
   ]
  },
  {
   "cell_type": "code",
   "execution_count": 69,
   "id": "e7afc8d7-f358-468b-b1a5-fa476af6ddb4",
   "metadata": {
    "tags": []
   },
   "outputs": [
    {
     "data": {
      "text/html": [
       "<div>\n",
       "<style scoped>\n",
       "    .dataframe tbody tr th:only-of-type {\n",
       "        vertical-align: middle;\n",
       "    }\n",
       "\n",
       "    .dataframe tbody tr th {\n",
       "        vertical-align: top;\n",
       "    }\n",
       "\n",
       "    .dataframe thead th {\n",
       "        text-align: right;\n",
       "    }\n",
       "</style>\n",
       "<table border=\"1\" class=\"dataframe\">\n",
       "  <thead>\n",
       "    <tr style=\"text-align: right;\">\n",
       "      <th></th>\n",
       "      <th>Open</th>\n",
       "      <th>High</th>\n",
       "      <th>Low</th>\n",
       "      <th>Close</th>\n",
       "      <th>Volume</th>\n",
       "      <th>TradingDate</th>\n",
       "      <th>customer_value</th>\n",
       "    </tr>\n",
       "  </thead>\n",
       "  <tbody>\n",
       "    <tr>\n",
       "      <th>0</th>\n",
       "      <td>28000.0</td>\n",
       "      <td>28400.0</td>\n",
       "      <td>27400.0</td>\n",
       "      <td>27400.0</td>\n",
       "      <td>2943088</td>\n",
       "      <td>2023-02-21</td>\n",
       "      <td>8220000.0</td>\n",
       "    </tr>\n",
       "    <tr>\n",
       "      <th>1</th>\n",
       "      <td>26900.0</td>\n",
       "      <td>27950.0</td>\n",
       "      <td>26800.0</td>\n",
       "      <td>26900.0</td>\n",
       "      <td>3273767</td>\n",
       "      <td>2023-02-22</td>\n",
       "      <td>8070000.0</td>\n",
       "    </tr>\n",
       "    <tr>\n",
       "      <th>2</th>\n",
       "      <td>27000.0</td>\n",
       "      <td>27100.0</td>\n",
       "      <td>25900.0</td>\n",
       "      <td>27000.0</td>\n",
       "      <td>2308020</td>\n",
       "      <td>2023-02-23</td>\n",
       "      <td>8100000.0</td>\n",
       "    </tr>\n",
       "    <tr>\n",
       "      <th>3</th>\n",
       "      <td>27000.0</td>\n",
       "      <td>27850.0</td>\n",
       "      <td>27000.0</td>\n",
       "      <td>27300.0</td>\n",
       "      <td>1987800</td>\n",
       "      <td>2023-02-24</td>\n",
       "      <td>8190000.0</td>\n",
       "    </tr>\n",
       "    <tr>\n",
       "      <th>4</th>\n",
       "      <td>26850.0</td>\n",
       "      <td>27250.0</td>\n",
       "      <td>26200.0</td>\n",
       "      <td>26200.0</td>\n",
       "      <td>1832961</td>\n",
       "      <td>2023-02-27</td>\n",
       "      <td>7860000.0</td>\n",
       "    </tr>\n",
       "  </tbody>\n",
       "</table>\n",
       "</div>"
      ],
      "text/plain": [
       "      Open     High      Low    Close   Volume TradingDate  customer_value\n",
       "0  28000.0  28400.0  27400.0  27400.0  2943088  2023-02-21       8220000.0\n",
       "1  26900.0  27950.0  26800.0  26900.0  3273767  2023-02-22       8070000.0\n",
       "2  27000.0  27100.0  25900.0  27000.0  2308020  2023-02-23       8100000.0\n",
       "3  27000.0  27850.0  27000.0  27300.0  1987800  2023-02-24       8190000.0\n",
       "4  26850.0  27250.0  26200.0  26200.0  1832961  2023-02-27       7860000.0"
      ]
     },
     "execution_count": 69,
     "metadata": {},
     "output_type": "execute_result"
    }
   ],
   "source": [
    "df_stock['customer_value'] = df_stock['Close'] * 300\n",
    "df_stock.head()"
   ]
  },
  {
   "cell_type": "code",
   "execution_count": 70,
   "id": "a242b9ee-bb92-4c49-8680-04d2d4372ef0",
   "metadata": {
    "tags": []
   },
   "outputs": [],
   "source": [
    "import matplotlib.pyplot as plt"
   ]
  },
  {
   "cell_type": "code",
   "execution_count": 71,
   "id": "dd49fa11-9c52-4503-b073-ee0bbcfec412",
   "metadata": {
    "tags": []
   },
   "outputs": [
    {
     "data": {
      "text/plain": [
       "<Axes: >"
      ]
     },
     "execution_count": 71,
     "metadata": {},
     "output_type": "execute_result"
    },
    {
     "data": {
      "image/png": "[encoded data removed]",
      "text/plain": [
       "<Figure size 640x480 with 1 Axes>"
      ]
     },
     "metadata": {},
     "output_type": "display_data"
    }
   ],
   "source": [
    "df_stock['customer_value'].plot()"
   ]
  },
  {
   "cell_type": "code",
   "execution_count": null,
   "id": "ab2fc157-ce46-4eee-abc7-1dfa4966ac7a",
   "metadata": {},
   "outputs": [],
   "source": []
  }
 ],
 "metadata": {
  "kernelspec": {
   "display_name": "macroeconomics",
   "language": "python",
   "name": "macroeconomics"
  },
  "language_info": {
   "codemirror_mode": {
    "name": "ipython",
    "version": 3
   },
   "file_extension": ".py",
   "mimetype": "text/x-python",
   "name": "python",
   "nbconvert_exporter": "python",
   "pygments_lexer": "ipython3",
   "version": "3.10.10"
  }
 },
 "nbformat": 4,
 "nbformat_minor": 5
}
