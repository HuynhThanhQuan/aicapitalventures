{
 "cells": [
  {
   "cell_type": "code",
   "execution_count": 12,
   "id": "ee164924-e16e-4f30-a70d-a170287fbfaf",
   "metadata": {
    "tags": []
   },
   "outputs": [],
   "source": [
    "from __future__ import print_function\n",
    "import os\n",
    "import google.auth\n",
    "from googleapiclient.discovery import build\n",
    "from googleapiclient.errors import HttpError\n",
    "from google.oauth2.credentials import Credentials\n",
    "import os.path\n",
    "\n",
    "from google.auth.transport.requests import Request\n",
    "from google.oauth2.credentials import Credentials\n",
    "from google_auth_oauthlib.flow import InstalledAppFlow\n",
    "from googleapiclient.discovery import build\n",
    "from googleapiclient.errors import HttpError"
   ]
  },
  {
   "cell_type": "code",
   "execution_count": 16,
   "id": "b3ad0da8-f22e-42d0-b88d-e1101e6cbb00",
   "metadata": {
    "tags": []
   },
   "outputs": [],
   "source": [
    "SCOPES = ['https://www.googleapis.com/auth/spreadsheets']"
   ]
  },
  {
   "cell_type": "code",
   "execution_count": 17,
   "id": "77925542-5137-42a1-8254-4fed03304a3d",
   "metadata": {
    "tags": []
   },
   "outputs": [
    {
     "name": "stdout",
     "output_type": "stream",
     "text": [
      "Please visit this URL to authorize this application: https://accounts.google.com/o/oauth2/auth?response_type=code&client_id=893967065023-s6o5lkmnqjeq6vqamvp4n3rq4f2uldb0.apps.googleusercontent.com&redirect_uri=http%3A%2F%2Flocalhost%3A61805%2F&scope=https%3A%2F%2Fwww.googleapis.com%2Fauth%2Fspreadsheets&state=thMn0nzlaj7wpFELJWLDooPpUow1h2&access_type=offline\n"
     ]
    }
   ],
   "source": [
    "creds = None\n",
    "# The file token.json stores the user's access and refresh tokens, and is\n",
    "# created automatically when the authorization flow completes for the first\n",
    "# time.\n",
    "if os.path.exists('token.json'):\n",
    "    creds = Credentials.from_authorized_user_file('token.json', SCOPES)\n",
    "# If there are no (valid) credentials available, let the user log in.\n",
    "if not creds or not creds.valid:\n",
    "    if creds and creds.expired and creds.refresh_token:\n",
    "        creds.refresh(Request())\n",
    "    else:\n",
    "        flow = InstalledAppFlow.from_client_secrets_file(\n",
    "            'credentials.json', SCOPES)\n",
    "        creds = flow.run_local_server(port=0)\n",
    "    # Save the credentials for the next run\n",
    "    with open('token.json', 'w') as token:\n",
    "        token.write(creds.to_json())"
   ]
  },
  {
   "cell_type": "code",
   "execution_count": 18,
   "id": "7cfe7a89-2f62-4c51-9ef3-10694349e0b0",
   "metadata": {
    "tags": []
   },
   "outputs": [
    {
     "name": "stdout",
     "output_type": "stream",
     "text": [
      "19 rows retrieved\n"
     ]
    },
    {
     "data": {
      "text/plain": [
       "{'range': 'Sheet1!A1:E1000',\n",
       " 'majorDimension': 'ROWS',\n",
       " 'values': [['abc', '12', '34', '56', '78'],\n",
       "  ['abc', '12', '34', '56', '78'],\n",
       "  ['abc', '12', '34', '56', '78'],\n",
       "  ['abc', '12', '34', '56', '78'],\n",
       "  ['abc', '12', '34', '56', '78'],\n",
       "  ['abc', '12', '34', '56', '78'],\n",
       "  ['abc', '12', '34', '56', '78'],\n",
       "  ['abc', '12', '34', '56', '78'],\n",
       "  ['abc', '12', '34', '56', '78'],\n",
       "  ['abc', '12', '34', '56', '78'],\n",
       "  ['abc', '12', '34', '56', '78'],\n",
       "  ['abc', '12', '34', '56', '78'],\n",
       "  ['abc', '12', '34', '56', '78'],\n",
       "  ['abc', '12', '34', '56', '78'],\n",
       "  ['abc', '12', '34', '56', '78'],\n",
       "  ['abc', '12', '34', '56', '78'],\n",
       "  ['abc', '12', '34', '56', '78'],\n",
       "  ['abc', '12', '34', '56', '78'],\n",
       "  ['abc', '12', '34', '56', '78']]}"
      ]
     },
     "execution_count": 18,
     "metadata": {},
     "output_type": "execute_result"
    }
   ],
   "source": [
    "def get_values(spreadsheet_id, range_name):\n",
    "    try:\n",
    "        service = build('sheets', 'v4', credentials=creds)\n",
    "\n",
    "        result = service.spreadsheets().values().get(\n",
    "            spreadsheetId=spreadsheet_id, range=range_name).execute()\n",
    "        rows = result.get('values', [])\n",
    "        print(f\"{len(rows)} rows retrieved\")\n",
    "        return result\n",
    "    except HttpError as error:\n",
    "        print(f\"An error occurred: {error}\")\n",
    "        return error\n",
    "\n",
    "\n",
    "get_values(\"1r_f92ABTjWs7oZiZX0waoUltvuHIF9x8gfKFAlyAetA\", \"A:E\")"
   ]
  },
  {
   "cell_type": "code",
   "execution_count": 20,
   "id": "97bb2bc9-a207-44a3-bf84-5fed318beead",
   "metadata": {
    "tags": []
   },
   "outputs": [
    {
     "name": "stdout",
     "output_type": "stream",
     "text": [
      "An error occurred: <HttpError 400 when requesting https://sheets.googleapis.com/v4/spreadsheets?fields=spreadsheetId&alt=json returned \"Invalid JSON payload received. Unknown name \"parents\" at 'spreadsheet.properties': Cannot find field.\". Details: \"[{'@type': 'type.googleapis.com/google.rpc.BadRequest', 'fieldViolations': [{'field': 'spreadsheet.properties', 'description': 'Invalid JSON payload received. Unknown name \"parents\" at \\'spreadsheet.properties\\': Cannot find field.'}]}]\">\n"
     ]
    }
   ],
   "source": [
    "try:\n",
    "    service = build('sheets', 'v4', credentials=creds)\n",
    "    spreadsheet = {\n",
    "        'properties': {\n",
    "            'title': 'mytestsheet',\n",
    "            'parents': '15OcuqE_QvUhO_MOhzeaZKSGprRlwODP2'\n",
    "        }\n",
    "    }\n",
    "    spreadsheet = service.spreadsheets().create(body=spreadsheet,\n",
    "                                                fields='spreadsheetId') \\\n",
    "        .execute()\n",
    "    print(f\"Spreadsheet ID: {(spreadsheet.get('spreadsheetId'))}\")\n",
    "    print(spreadsheet.get('spreadsheetId'))\n",
    "except HttpError as error:\n",
    "    print(f\"An error occurred: {error}\")"
   ]
  },
  {
   "cell_type": "code",
   "execution_count": 31,
   "id": "d0c85323-60d7-43e0-a88a-cb71dc6268a0",
   "metadata": {
    "tags": []
   },
   "outputs": [],
   "source": [
    "def update_values(spreadsheet_id, \n",
    "                  range_name, \n",
    "                  value_input_option,\n",
    "                  _values):\n",
    "    \"\"\"\n",
    "    Creates the batch_update the user has access to.\n",
    "    Load pre-authorized user credentials from the environment.\n",
    "    TODO(developer) - See https://developers.google.com/identity\n",
    "    for guides on implementing OAuth2 for the application.\n",
    "        \"\"\"\n",
    "    try:\n",
    "\n",
    "        service = build('sheets', 'v4', credentials=creds)\n",
    "        values = [\n",
    "            [\n",
    "                # Cell values ...\n",
    "            ],\n",
    "            # Additional rows ...\n",
    "        ]\n",
    "        values = _values\n",
    "        \n",
    "        body = {\n",
    "            'values': values\n",
    "        }\n",
    "        result = service.spreadsheets().values().update(\n",
    "            spreadsheetId=spreadsheet_id, range=range_name,\n",
    "            valueInputOption=value_input_option, body=body).execute()\n",
    "        print(f\"{result.get('updatedCells')} cells updated.\")\n",
    "        return result\n",
    "    except HttpError as error:\n",
    "        print(f\"An error occurred: {error}\")\n",
    "        return error"
   ]
  },
  {
   "cell_type": "code",
   "execution_count": 32,
   "id": "e5580c0b-2ed9-436b-8919-88287424b32f",
   "metadata": {
    "tags": []
   },
   "outputs": [
    {
     "name": "stdout",
     "output_type": "stream",
     "text": [
      "4 cells updated.\n"
     ]
    },
    {
     "data": {
      "text/plain": [
       "{'spreadsheetId': '1r_f92ABTjWs7oZiZX0waoUltvuHIF9x8gfKFAlyAetA',\n",
       " 'updatedRange': 'Sheet1!A1:B2',\n",
       " 'updatedRows': 2,\n",
       " 'updatedColumns': 2,\n",
       " 'updatedCells': 4}"
      ]
     },
     "execution_count": 32,
     "metadata": {},
     "output_type": "execute_result"
    }
   ],
   "source": [
    "# Pass: spreadsheet_id,  range_name, value_input_option and  _values\n",
    "update_values(\"1r_f92ABTjWs7oZiZX0waoUltvuHIF9x8gfKFAlyAetA\",\n",
    "              \"A1:B2\", \n",
    "              \"USER_ENTERED\",\n",
    "              [\n",
    "                  ['A', 'B'],\n",
    "                  ['C', 'D']\n",
    "              ])"
   ]
  },
  {
   "cell_type": "code",
   "execution_count": null,
   "id": "dc2c76c6-8877-408a-a6cb-b37abfa7f77e",
   "metadata": {},
   "outputs": [],
   "source": []
  }
 ],
 "metadata": {
  "kernelspec": {
   "display_name": "macroeconomics",
   "language": "python",
   "name": "macroeconomics"
  },
  "language_info": {
   "codemirror_mode": {
    "name": "ipython",
    "version": 3
   },
   "file_extension": ".py",
   "mimetype": "text/x-python",
   "name": "python",
   "nbconvert_exporter": "python",
   "pygments_lexer": "ipython3",
   "version": "3.10.10"
  }
 },
 "nbformat": 4,
 "nbformat_minor": 5
}
